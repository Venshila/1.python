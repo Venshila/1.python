{
 "cells": [
  {
   "cell_type": "code",
   "execution_count": 1,
   "id": "56518c4b-c66a-4e86-9af3-434e79d7a46a",
   "metadata": {
    "jupyter": {
     "source_hidden": true
    }
   },
   "outputs": [
    {
     "name": "stdout",
     "output_type": "stream",
     "text": [
      "welcome to Assignment-1\n"
     ]
    }
   ],
   "source": [
    "print(\"welcome to Assignment-1\")\n"
   ]
  },
  {
   "cell_type": "code",
   "execution_count": 3,
   "id": "6d3737ec-4e6b-4acf-8122-e35a867909f8",
   "metadata": {},
   "outputs": [
    {
     "name": "stdout",
     "output_type": "stream",
     "text": [
      "Num1: 10\n",
      "Num2: 30\n",
      "Add: 40\n"
     ]
    }
   ],
   "source": [
    "num1=10\n",
    "print(\"Num1:\",num1)\n",
    "num2=30\n",
    "print(\"Num2:\",num2)\n",
    "print(\"Add:\",num1+num2)\n"
   ]
  },
  {
   "cell_type": "code",
   "execution_count": 5,
   "id": "2ea0b2e6-9032-4d8a-b3b2-3555bea95485",
   "metadata": {},
   "outputs": [],
   "source": [
    "#Body Mass Index"
   ]
  },
  {
   "cell_type": "code",
   "execution_count": 13,
   "id": "b095aa36-521a-45e6-b793-fe97dac91e2e",
   "metadata": {},
   "outputs": [
    {
     "name": "stdin",
     "output_type": "stream",
     "text": [
      "Enter the BMI index: 34\n"
     ]
    },
    {
     "name": "stdout",
     "output_type": "stream",
     "text": [
      "very over weight\n"
     ]
    }
   ],
   "source": [
    "BMI = int(input(\"Enter the BMI index:\"))\n",
    "if(BMI<34):\n",
    "    print(\"over weight\")\n",
    "else:\n",
    "    print(\"very over weight\")\n"
   ]
  },
  {
   "cell_type": "code",
   "execution_count": null,
   "id": "feeccb3f-b03d-405d-9581-a0e340c954fb",
   "metadata": {},
   "outputs": [],
   "source": []
  },
  {
   "cell_type": "code",
   "execution_count": 15,
   "id": "af974810-d1dc-4656-a92c-728c675a0a01",
   "metadata": {},
   "outputs": [
    {
     "name": "stdin",
     "output_type": "stream",
     "text": [
      "Enter the BMI index: 32\n"
     ]
    },
    {
     "name": "stdout",
     "output_type": "stream",
     "text": [
      "over weight\n"
     ]
    }
   ],
   "source": [
    "BMI = int(input(\"Enter the BMI index:\"))\n",
    "if(BMI<34):\n",
    "    print(\"over weight\")\n",
    "else:\n",
    "    print(\"very over weight\")\n"
   ]
  },
  {
   "cell_type": "code",
   "execution_count": null,
   "id": "5259887e-e07d-433a-be0d-7c460654a65e",
   "metadata": {},
   "outputs": [],
   "source": []
  }
 ],
 "metadata": {
  "kernelspec": {
   "display_name": "Python [conda env:base] *",
   "language": "python",
   "name": "conda-base-py"
  },
  "language_info": {
   "codemirror_mode": {
    "name": "ipython",
    "version": 3
   },
   "file_extension": ".py",
   "mimetype": "text/x-python",
   "name": "python",
   "nbconvert_exporter": "python",
   "pygments_lexer": "ipython3",
   "version": "3.12.7"
  }
 },
 "nbformat": 4,
 "nbformat_minor": 5
}
