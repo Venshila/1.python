{
 "cells": [
  {
   "cell_type": "code",
   "execution_count": 1,
   "id": "b850e986-dc12-45d6-825a-0b11d1acdb94",
   "metadata": {},
   "outputs": [],
   "source": [
    "# print 0 to 20 by using range"
   ]
  },
  {
   "cell_type": "code",
   "execution_count": 2,
   "id": "c57b9383-7551-4e74-87d1-1feb23b22e2f",
   "metadata": {},
   "outputs": [
    {
     "name": "stdout",
     "output_type": "stream",
     "text": [
      "0\n",
      "1\n",
      "2\n",
      "3\n",
      "4\n",
      "5\n",
      "6\n",
      "7\n",
      "8\n",
      "9\n",
      "10\n",
      "11\n",
      "12\n",
      "13\n",
      "14\n",
      "15\n",
      "16\n",
      "17\n",
      "18\n",
      "19\n",
      "20\n"
     ]
    }
   ],
   "source": [
    "for num in range(0,21):\n",
    "    print(num)"
   ]
  },
  {
   "cell_type": "code",
   "execution_count": 3,
   "id": "aa6f38ec-d227-4995-a104-5f201a900c4b",
   "metadata": {},
   "outputs": [],
   "source": [
    "# print range 10 to 20"
   ]
  },
  {
   "cell_type": "code",
   "execution_count": 4,
   "id": "62168e43-63f6-4850-a36e-3d37959cfe61",
   "metadata": {},
   "outputs": [
    {
     "name": "stdout",
     "output_type": "stream",
     "text": [
      "[10, 11, 12, 13, 14, 15, 16, 17, 18, 19, 20]\n"
     ]
    }
   ],
   "source": [
    "num=[*range(10,21)]\n",
    "print(num)"
   ]
  },
  {
   "cell_type": "code",
   "execution_count": 5,
   "id": "22a79a66-cf4d-4622-82a7-9a0d5b241cf6",
   "metadata": {},
   "outputs": [],
   "source": [
    "# print number of items in the list by using 'len'"
   ]
  },
  {
   "cell_type": "code",
   "execution_count": 6,
   "id": "9f204dcd-2d42-4f50-97ed-ca56061aea3a",
   "metadata": {},
   "outputs": [
    {
     "name": "stdout",
     "output_type": "stream",
     "text": [
      "Number of items in the list: 7\n"
     ]
    }
   ],
   "source": [
    "list=(10,20,14,55,43,87,76)\n",
    "num = int(len(list))\n",
    "print(\"Number of items in the list:\",num)"
   ]
  },
  {
   "cell_type": "code",
   "execution_count": 7,
   "id": "072db856-edac-4dc3-b91e-614b6a641703",
   "metadata": {},
   "outputs": [
    {
     "name": "stdout",
     "output_type": "stream",
     "text": [
      "A\n",
      "r\n",
      "t\n",
      "i\n",
      "f\n",
      "i\n",
      "c\n",
      "i\n",
      "a\n",
      "l\n",
      " \n",
      "I\n",
      "n\n",
      "t\n",
      "e\n",
      "l\n",
      "l\n",
      "i\n",
      "g\n",
      "e\n",
      "n\n",
      "c\n",
      "e\n"
     ]
    }
   ],
   "source": [
    "sentence=\"Artificial Intelligence\"\n",
    "for letter in sentence:\n",
    "    print(letter)"
   ]
  },
  {
   "cell_type": "code",
   "execution_count": 8,
   "id": "03865920-fce4-40a0-8736-bc72eb23b66a",
   "metadata": {},
   "outputs": [
    {
     "name": "stdout",
     "output_type": "stream",
     "text": [
      "-Your Name-\n",
      "-Your Age-\n",
      "-Your Profession-\n"
     ]
    }
   ],
   "source": [
    "print(\"-Your Name-\")\n",
    "print(\"-Your Age-\")\n",
    "print(\"-Your Profession-\")"
   ]
  },
  {
   "cell_type": "code",
   "execution_count": 9,
   "id": "c71a217f-2af0-49cc-b8c9-1a1f4e13635a",
   "metadata": {},
   "outputs": [],
   "source": [
    "#print this mixed datatype using tupples"
   ]
  },
  {
   "cell_type": "code",
   "execution_count": 10,
   "id": "55d7ca4a-ec05-453b-8e73-e08086026cf3",
   "metadata": {},
   "outputs": [
    {
     "name": "stdout",
     "output_type": "stream",
     "text": [
      "(1, 'welcome', 2, 'Hope')\n"
     ]
    }
   ],
   "source": [
    "tuple=(1,'welcome',2,'Hope')\n",
    "print(tuple)"
   ]
  },
  {
   "cell_type": "code",
   "execution_count": 11,
   "id": "9c36b329-ee39-4bb1-a193-42fe0a1d862e",
   "metadata": {},
   "outputs": [
    {
     "name": "stdout",
     "output_type": "stream",
     "text": [
      "(0, 1, 2, 3) ('python', 'Hope')\n"
     ]
    }
   ],
   "source": [
    "tuple1=(0,1,2,3)\n",
    "tuple2=('python','Hope')\n",
    "print((tuple1),(tuple2))"
   ]
  },
  {
   "cell_type": "code",
   "execution_count": 33,
   "id": "4543a656-ce41-4fbc-ad41-b65428d8917b",
   "metadata": {},
   "outputs": [
    {
     "name": "stdout",
     "output_type": "stream",
     "text": [
      "19\n",
      "25\n",
      "1\n"
     ]
    }
   ],
   "source": [
    "# print odd numbers in the list\n",
    "\n",
    "num=(20,10,16,19,25,1,276,188)\n",
    "for num in list :\n",
    "    if (num%2 !=0):\n",
    "        print(num)"
   ]
  },
  {
   "cell_type": "code",
   "execution_count": 35,
   "id": "43066aba-4f2e-49a3-8343-155fe69b21f3",
   "metadata": {},
   "outputs": [
    {
     "name": "stdout",
     "output_type": "stream",
     "text": [
      "20\n",
      "10\n",
      "16\n",
      "276\n",
      "188\n"
     ]
    }
   ],
   "source": [
    "# print even numbers in the list\n",
    "\n",
    "\n",
    "list=(20,10,16,19,25,1,276,188)\n",
    "for num in list :\n",
    "    if (num%2 ==0):\n",
    "        print(num)"
   ]
  },
  {
   "cell_type": "code",
   "execution_count": null,
   "id": "5ab935b7-294d-4036-9f6f-e8b07c8ae999",
   "metadata": {},
   "outputs": [],
   "source": []
  },
  {
   "cell_type": "code",
   "execution_count": null,
   "id": "0db206c3-0ba8-4a33-8b9d-eb47c70d9009",
   "metadata": {},
   "outputs": [],
   "source": []
  }
 ],
 "metadata": {
  "kernelspec": {
   "display_name": "Python [conda env:base] *",
   "language": "python",
   "name": "conda-base-py"
  },
  "language_info": {
   "codemirror_mode": {
    "name": "ipython",
    "version": 3
   },
   "file_extension": ".py",
   "mimetype": "text/x-python",
   "name": "python",
   "nbconvert_exporter": "python",
   "pygments_lexer": "ipython3",
   "version": "3.12.7"
  }
 },
 "nbformat": 4,
 "nbformat_minor": 5
}
