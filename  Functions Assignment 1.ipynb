{
 "cells": [
  {
   "cell_type": "code",
   "execution_count": 1,
   "id": "be7a7ac8-9e75-458e-b333-0de8cf59e6f5",
   "metadata": {},
   "outputs": [],
   "source": [
    "# create function"
   ]
  },
  {
   "cell_type": "code",
   "execution_count": 3,
   "id": "e66ff173-df36-4132-9408-9b71c96c13b1",
   "metadata": {},
   "outputs": [
    {
     "name": "stdin",
     "output_type": "stream",
     "text": [
      "sub-fields in Ai are: \n"
     ]
    },
    {
     "name": "stdout",
     "output_type": "stream",
     "text": [
      "Machine Learning\n",
      "Neural Networking\n",
      "Vision\n",
      "Robotics\n",
      "Speech Processing\n",
      "Natural Language Processing\n"
     ]
    }
   ],
   "source": [
    "def subfields():\n",
    "    input(\"sub-fields in Ai are:\")\n",
    "    lists=[ \"Machine Learning\",\n",
    "       \"Neural Networking\",\n",
    "       \"Vision\" ,\"Robotics\" ,\n",
    "       \"Speech Processing\",\n",
    "       \"Natural Language Processing\" ]\n",
    "    for list in lists:\n",
    "        print(list) \n",
    "subfields()"
   ]
  },
  {
   "cell_type": "code",
   "execution_count": null,
   "id": "fb0bd358-ca98-4815-9e39-abe2d3517f7f",
   "metadata": {},
   "outputs": [],
   "source": [
    "# create a function that checks whether the given number is odd or even"
   ]
  },
  {
   "cell_type": "code",
   "execution_count": null,
   "id": "f3bda462-d1a4-4242-9e6f-ac9f3b92f577",
   "metadata": {},
   "outputs": [],
   "source": [
    "OddEven.OddEven()"
   ]
  },
  {
   "cell_type": "code",
   "execution_count": null,
   "id": "6d3d9ccb-15b3-4596-9e4e-88ac37811f8b",
   "metadata": {},
   "outputs": [],
   "source": [
    "Enter a number 52452\n",
    "52452 is Even number"
   ]
  },
  {
   "cell_type": "code",
   "execution_count": 5,
   "id": "bfb7529b-6ed6-4dd3-9e9e-c851ef01a743",
   "metadata": {},
   "outputs": [
    {
     "name": "stdin",
     "output_type": "stream",
     "text": [
      "Enter a number 52452\n"
     ]
    },
    {
     "name": "stdout",
     "output_type": "stream",
     "text": [
      "52452  is Even number\n"
     ]
    }
   ],
   "source": [
    "def OddEven():\n",
    "    num=int(input(\"Enter a number\"))\n",
    "    if (num%2==0):\n",
    "        print(num,\" is Even number\")\n",
    "    else:\n",
    "        print(num, \"is Odd number\")\n",
    "OddEven()\n"
   ]
  },
  {
   "cell_type": "code",
   "execution_count": null,
   "id": "5cc1dd93-08b6-4fa4-ac25-52eabcf4550c",
   "metadata": {},
   "outputs": [],
   "source": [
    "# create a function that tells the eligiblity of marriage for male anf female according to their age limit like 21 for male and 18 for female\n",
    "\n",
    "EligibilityforMarriage.Eligible()\n",
    "\n",
    "Your Gender:Male \n",
    "Your Age 20\n",
    "NOT ELIGIBLE"
   ]
  },
  {
   "cell_type": "code",
   "execution_count": 7,
   "id": "776ce35f-6079-46cf-b6d3-6591040d16ce",
   "metadata": {},
   "outputs": [
    {
     "name": "stdin",
     "output_type": "stream",
     "text": [
      "Your Gender: MALE\n",
      "Your Age: 20\n"
     ]
    },
    {
     "name": "stdout",
     "output_type": "stream",
     "text": [
      "NOT ELIGIBLE\n"
     ]
    }
   ],
   "source": [
    "def eligible():\n",
    "    gender=input(\"Your Gender:\")\n",
    "    age=int(input(\"Your Age:\"))\n",
    "    if(age>21) :\n",
    "        print(\"ELIGIBLE\")\n",
    "    else:\n",
    "        print(\"NOT ELIGIBLE\")\n",
    "eligible()\n",
    "       "
   ]
  },
  {
   "cell_type": "code",
   "execution_count": null,
   "id": "d5e4bb98-37ea-4b0a-8211-34b273b04a6e",
   "metadata": {},
   "outputs": [],
   "source": [
    "# Calculate the percentage of your 10th mark\n",
    "\n",
    "findpercent.percentage()\n",
    "subject1=98\n",
    "subject2=87\n",
    "subject3=95\n",
    "subject4=95\n",
    "subject5=93\n",
    "Total=468\n",
    "Percentage: 93.60000000000001"
   ]
  },
  {
   "cell_type": "code",
   "execution_count": 23,
   "id": "a1a8f9c7-875d-4a9f-8a1a-37200ad2a53e",
   "metadata": {},
   "outputs": [
    {
     "name": "stdin",
     "output_type": "stream",
     "text": [
      "Subject1= 98\n",
      "Subject2= 87\n",
      "Subject3= 95\n",
      "Subject4= 95\n",
      "Subject5= 93\n"
     ]
    },
    {
     "name": "stdout",
     "output_type": "stream",
     "text": [
      "Total= 468\n",
      "Percentage: 93.60000000000001\n"
     ]
    }
   ],
   "source": [
    "def percentage():\n",
    "    sub=\"sub1\"+\"sub2\"+\"sub3\"+\"sub4\"+\"sub5\"\n",
    "    sub1=int(input(\"Subject1=\"))\n",
    "    sub2=int(input(\"Subject2=\"))\n",
    "    sub3=int(input(\"Subject3=\"))\n",
    "    sub4=int(input(\"Subject4=\"))\n",
    "    sub5=int(input(\"Subject5=\"))\n",
    "    Total=sub1+sub2+sub3+sub4+sub5\n",
    "    print(\"Total=\",Total)\n",
    "    avg=(Total/500)*100\n",
    "    print(\"Percentage:\",avg)\n",
    "percentage()"
   ]
  },
  {
   "cell_type": "code",
   "execution_count": null,
   "id": "707681b3-2e3c-436e-bd36-81d268c19a95",
   "metadata": {},
   "outputs": [],
   "source": [
    "# print area and perimeter of triangle using class and function"
   ]
  },
  {
   "cell_type": "code",
   "execution_count": null,
   "id": "4efd277a-3e5e-4bb8-a1e1-5ac69f09545c",
   "metadata": {},
   "outputs": [],
   "source": [
    "triangle.triangle()"
   ]
  },
  {
   "cell_type": "code",
   "execution_count": null,
   "id": "19286573-bd34-42aa-996d-c6ccb43c2b67",
   "metadata": {},
   "outputs": [],
   "source": [
    "Height:32\n",
    "Breadth:34\n",
    "Area formula:(Height*Breadth)/2\n",
    "Area Of Triangle: 544.0\n",
    "Height1:2\n",
    "Height2:4\n",
    "Breadth:4\n",
    "Perimeter formula:Height1+Height2+Breadth\n",
    "Perimeter Of Triangle: 10"
   ]
  },
  {
   "cell_type": "code",
   "execution_count": 45,
   "id": "a42b5709-3422-4bcf-813f-532918c72e9c",
   "metadata": {},
   "outputs": [
    {
     "name": "stdin",
     "output_type": "stream",
     "text": [
      "Height: 32\n",
      "Breadth: 34\n"
     ]
    },
    {
     "name": "stdout",
     "output_type": "stream",
     "text": [
      "Area formula:(Height*Breadth)/2\n",
      "Area of Triangle: 544.0\n"
     ]
    },
    {
     "name": "stdin",
     "output_type": "stream",
     "text": [
      "Height1: 2\n",
      "Height2: 4\n",
      "Breadth: 4\n"
     ]
    },
    {
     "name": "stdout",
     "output_type": "stream",
     "text": [
      "Perimeter formula:Height1+Height2+Breadth\n",
      "Perimeter of Trianlge: 10\n"
     ]
    }
   ],
   "source": [
    "def triangle():\n",
    "    Height=int(input(\"Height:\"))\n",
    "    Breadth=int(input(\"Breadth:\"))\n",
    "    Area=(Height*Breadth)/2\n",
    "    print(\"Area formula:(Height*Breadth)/2\")\n",
    "    print(\"Area of Triangle:\",Area)\n",
    "    Height1=int(input(\"Height1:\"))\n",
    "    Height2=int(input(\"Height2:\"))\n",
    "    Breadth=int(input(\"Breadth:\"))\n",
    "    Perimeter=Height1+Height2+Breadth\n",
    "    print(\"Perimeter formula:Height1+Height2+Breadth\")\n",
    "    print(\"Perimeter of Trianlge:\",Perimeter)\n",
    "triangle()"
   ]
  },
  {
   "cell_type": "code",
   "execution_count": null,
   "id": "344bfff0-7361-4164-8d06-cadb35be3e4c",
   "metadata": {},
   "outputs": [],
   "source": []
  }
 ],
 "metadata": {
  "kernelspec": {
   "display_name": "Python [conda env:base] *",
   "language": "python",
   "name": "conda-base-py"
  },
  "language_info": {
   "codemirror_mode": {
    "name": "ipython",
    "version": 3
   },
   "file_extension": ".py",
   "mimetype": "text/x-python",
   "name": "python",
   "nbconvert_exporter": "python",
   "pygments_lexer": "ipython3",
   "version": "3.12.7"
  }
 },
 "nbformat": 4,
 "nbformat_minor": 5
}
