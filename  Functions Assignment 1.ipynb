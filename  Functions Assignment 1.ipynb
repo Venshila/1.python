{
 "cells": [
  {
   "cell_type": "code",
   "execution_count": null,
   "id": "be7a7ac8-9e75-458e-b333-0de8cf59e6f5",
   "metadata": {},
   "outputs": [],
   "source": [
    "# create function"
   ]
  },
  {
   "cell_type": "code",
   "execution_count": null,
   "id": "1e29f3b2-f891-4e4f-9f72-b7ec259d8dc0",
   "metadata": {},
   "outputs": [],
   "source": [
    "subfields()\n",
    "sub-fields in AI are:\n",
    "Machine Learning\n",
    "Neural Networking\n",
    "Vision\n",
    "Robotics\n",
    "Speech Processing\n",
    "Natural Language Processing"
   ]
  },
  {
   "cell_type": "code",
   "execution_count": 66,
   "id": "e66ff173-df36-4132-9408-9b71c96c13b1",
   "metadata": {},
   "outputs": [
    {
     "name": "stdin",
     "output_type": "stream",
     "text": [
      "sub-fields in Ai are: \n"
     ]
    },
    {
     "name": "stdout",
     "output_type": "stream",
     "text": [
      "Machine Learning\n",
      "Neural Networking\n",
      "Vision\n",
      "Robotics\n",
      "Speech Processing\n",
      "Natural Language Processing\n"
     ]
    }
   ],
   "source": [
    "def subfields():\n",
    "    input(\"sub-fields in Ai are:\")\n",
    "    lists=[ \"Machine Learning\",\n",
    "       \"Neural Networking\",\n",
    "       \"Vision\" ,\"Robotics\" ,\n",
    "       \"Speech Processing\",\n",
    "       \"Natural Language Processing\" ]\n",
    "    for list in lists:\n",
    "        print(list) \n",
    "subfields()"
   ]
  },
  {
   "cell_type": "code",
   "execution_count": null,
   "id": "fb0bd358-ca98-4815-9e39-abe2d3517f7f",
   "metadata": {},
   "outputs": [],
   "source": [
    "# create a function that checks whether the given number is odd or even"
   ]
  },
  {
   "cell_type": "code",
   "execution_count": null,
   "id": "f3bda462-d1a4-4242-9e6f-ac9f3b92f577",
   "metadata": {},
   "outputs": [],
   "source": [
    "OddEven.OddEven()"
   ]
  },
  {
   "cell_type": "code",
   "execution_count": null,
   "id": "6d3d9ccb-15b3-4596-9e4e-88ac37811f8b",
   "metadata": {},
   "outputs": [],
   "source": [
    "Enter a number 52452\n",
    "52452 is Even number"
   ]
  },
  {
   "cell_type": "code",
   "execution_count": 102,
   "id": "bfb7529b-6ed6-4dd3-9e9e-c851ef01a743",
   "metadata": {},
   "outputs": [
    {
     "name": "stdin",
     "output_type": "stream",
     "text": [
      "Enter a number 52452\n"
     ]
    },
    {
     "name": "stdout",
     "output_type": "stream",
     "text": [
      "52452  is Even number\n"
     ]
    }
   ],
   "source": [
    "def OddEven():\n",
    "    num=int(input(\"Enter a number\"))\n",
    "    if (num%2==0):\n",
    "        print(num,\" is Even number\")\n",
    "    else:\n",
    "        print(num, \"is Odd number\")\n",
    "OddEven()"
   ]
  },
  {
   "cell_type": "code",
   "execution_count": null,
   "id": "5cc1dd93-08b6-4fa4-ac25-52eabcf4550c",
   "metadata": {},
   "outputs": [],
   "source": []
  }
 ],
 "metadata": {
  "kernelspec": {
   "display_name": "Python [conda env:base] *",
   "language": "python",
   "name": "conda-base-py"
  },
  "language_info": {
   "codemirror_mode": {
    "name": "ipython",
    "version": 3
   },
   "file_extension": ".py",
   "mimetype": "text/x-python",
   "name": "python",
   "nbconvert_exporter": "python",
   "pygments_lexer": "ipython3",
   "version": "3.12.7"
  }
 },
 "nbformat": 4,
 "nbformat_minor": 5
}
