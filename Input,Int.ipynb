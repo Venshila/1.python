{
 "cells": [
  {
   "cell_type": "code",
   "execution_count": null,
   "id": "f332ada1-128e-46e3-a1e7-5f576bd4108b",
   "metadata": {},
   "outputs": [
    {
     "name": "stdin",
     "output_type": "stream",
     "text": [
      "Your name vency\n"
     ]
    }
   ],
   "source": [
    "num=int(input(\"Your name\"))"
   ]
  },
  {
   "cell_type": "code",
   "execution_count": 1,
   "id": "fdb9fac6-bfa2-4f57-af1b-26d3a04c9e94",
   "metadata": {},
   "outputs": [
    {
     "name": "stdin",
     "output_type": "stream",
     "text": [
      "your name 10\n"
     ]
    }
   ],
   "source": [
    "num=int(input(\"your name\"))\n"
   ]
  },
  {
   "cell_type": "code",
   "execution_count": 3,
   "id": "59041b41-0b0e-483c-b685-8579258fabbe",
   "metadata": {},
   "outputs": [
    {
     "name": "stdin",
     "output_type": "stream",
     "text": [
      "my name 32\n"
     ]
    }
   ],
   "source": [
    "num=int(input(\"my name\"))"
   ]
  },
  {
   "cell_type": "code",
   "execution_count": 5,
   "id": "af89c66b-39f4-446b-857c-6720a3d91414",
   "metadata": {},
   "outputs": [
    {
     "name": "stdin",
     "output_type": "stream",
     "text": [
      "name 3\n"
     ]
    }
   ],
   "source": [
    "num=input(\"name\")\n"
   ]
  },
  {
   "cell_type": "code",
   "execution_count": null,
   "id": "62ab718a-f239-4d6a-a3af-e2e1bec68068",
   "metadata": {},
   "outputs": [],
   "source": []
  }
 ],
 "metadata": {
  "kernelspec": {
   "display_name": "Python [conda env:base] *",
   "language": "python",
   "name": "conda-base-py"
  },
  "language_info": {
   "codemirror_mode": {
    "name": "ipython",
    "version": 3
   },
   "file_extension": ".py",
   "mimetype": "text/x-python",
   "name": "python",
   "nbconvert_exporter": "python",
   "pygments_lexer": "ipython3",
   "version": "3.12.7"
  }
 },
 "nbformat": 4,
 "nbformat_minor": 5
}
