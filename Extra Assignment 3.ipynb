{
 "cells": [
  {
   "cell_type": "code",
   "execution_count": 1,
   "id": "21edb11e-1592-4463-8029-698bd692d761",
   "metadata": {},
   "outputs": [],
   "source": [
    "# print 'CORRECT' if i==10"
   ]
  },
  {
   "cell_type": "code",
   "execution_count": 2,
   "id": "37f5aebd-fed8-4940-9aff-3aec23b80679",
   "metadata": {},
   "outputs": [
    {
     "name": "stdin",
     "output_type": "stream",
     "text": [
      "value: 10\n"
     ]
    },
    {
     "name": "stdout",
     "output_type": "stream",
     "text": [
      "CORRECT\n"
     ]
    }
   ],
   "source": [
    "i=int(input(\"value:\"))\n",
    "if (i==10):\n",
    "    print(\"CORRECT\")\n"
   ]
  },
  {
   "cell_type": "code",
   "execution_count": 3,
   "id": "9f125f7a-edf6-43d6-9b3d-d35a4c5223e9",
   "metadata": {},
   "outputs": [],
   "source": [
    "# check the password, using if and else"
   ]
  },
  {
   "cell_type": "code",
   "execution_count": 4,
   "id": "591f3740-9fac-4b4f-a30d-81d7ca95cc30",
   "metadata": {},
   "outputs": [
    {
     "name": "stdin",
     "output_type": "stream",
     "text": [
      "Enter the password: HOPE@123\n"
     ]
    },
    {
     "name": "stdout",
     "output_type": "stream",
     "text": [
      "Your Password is correct\n"
     ]
    }
   ],
   "source": [
    "input(\"Enter the password:\")\n",
    "if( \"password==HOPE@123\"):\n",
    "    print(\"Your Password is correct\")\n",
    "else:\n",
    "    print(\"your password is wrong\")"
   ]
  },
  {
   "cell_type": "code",
   "execution_count": 12,
   "id": "dcdf73cd-bb97-4a73-b7a5-04a0f148d783",
   "metadata": {},
   "outputs": [
    {
     "name": "stdin",
     "output_type": "stream",
     "text": [
      "age: 20\n"
     ]
    },
    {
     "name": "stdout",
     "output_type": "stream",
     "text": [
      "adult\n"
     ]
    }
   ],
   "source": [
    "age=int(input(\"age:\"))\n",
    "if age < 13 :\n",
    "    print(\"children\")\n",
    "elif age>13 and age<21 :\n",
    "    print(\"adult\")\n",
    "if age>21 and age<58 :\n",
    "    print(\"citizen\")\n",
    "elif age>58 :\n",
    "    print(\"senior citizen\")"
   ]
  },
  {
   "cell_type": "code",
   "execution_count": null,
   "id": "58501dee-e2f3-4b1a-9a3f-3f8b8335591c",
   "metadata": {},
   "outputs": [],
   "source": [
    "#find whether given number is positive or negative\n",
    "Enter any number:1\n",
    "no is positive"
   ]
  },
  {
   "cell_type": "code",
   "execution_count": 18,
   "id": "45d914dc-2e91-4c2e-b64b-4ec2528ad047",
   "metadata": {},
   "outputs": [
    {
     "name": "stdin",
     "output_type": "stream",
     "text": [
      "Enter any number 1\n"
     ]
    },
    {
     "name": "stdout",
     "output_type": "stream",
     "text": [
      "no is positive\n"
     ]
    }
   ],
   "source": [
    "no=int(input(\"Enter any number\"))\n",
    "if no < 0 :\n",
    "       print(\"no is negative\")\n",
    "elif no > 0:\n",
    "    print(\"no is positive\")"
   ]
  },
  {
   "cell_type": "code",
   "execution_count": null,
   "id": "706ed00a-84ef-43fe-a0eb-6097ed8e8c05",
   "metadata": {},
   "outputs": [],
   "source": [
    "#check whether the given number is divisible by 5\n",
    "Enter a  number to check:22\n",
    "no it is not divisible by 5"
   ]
  },
  {
   "cell_type": "code",
   "execution_count": 24,
   "id": "73bcd65c-d964-4a30-b8f0-aa2c605c9b13",
   "metadata": {},
   "outputs": [
    {
     "name": "stdin",
     "output_type": "stream",
     "text": [
      "Enter a number to check 22\n"
     ]
    },
    {
     "name": "stdout",
     "output_type": "stream",
     "text": [
      "no is not divisible by 5\n"
     ]
    }
   ],
   "source": [
    "no=int(input(\"Enter a number to check\"))\n",
    "if no % 5== 0 :\n",
    "    print(\"no is divisible by 5\")\n",
    "elif no % 5!=0 :\n",
    "    print (\"no is not divisible by 5\")\n",
    "\n",
    " "
   ]
  },
  {
   "cell_type": "code",
   "execution_count": null,
   "id": "6ecf435c-adc1-4652-9416-3c7500f71472",
   "metadata": {},
   "outputs": [],
   "source": []
  }
 ],
 "metadata": {
  "kernelspec": {
   "display_name": "Python [conda env:base] *",
   "language": "python",
   "name": "conda-base-py"
  },
  "language_info": {
   "codemirror_mode": {
    "name": "ipython",
    "version": 3
   },
   "file_extension": ".py",
   "mimetype": "text/x-python",
   "name": "python",
   "nbconvert_exporter": "python",
   "pygments_lexer": "ipython3",
   "version": "3.12.7"
  }
 },
 "nbformat": 4,
 "nbformat_minor": 5
}
