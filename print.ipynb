{
 "cells": [
  {
   "cell_type": "code",
   "execution_count": 1,
   "id": "cac49017-efad-4aa3-8995-af99a8ee976b",
   "metadata": {},
   "outputs": [
    {
     "name": "stdout",
     "output_type": "stream",
     "text": [
      "\n",
      "welcome\n"
     ]
    }
   ],
   "source": [
    "print() \n",
    "print(\"welcome\")"
   ]
  },
  {
   "cell_type": "code",
   "execution_count": null,
   "id": "f291d373-d299-4326-8b28-aacba6e21f81",
   "metadata": {},
   "outputs": [],
   "source": []
  },
  {
   "cell_type": "code",
   "execution_count": 3,
   "id": "30b5c799-d348-4e90-b0b1-79a25bcdd6cb",
   "metadata": {},
   "outputs": [],
   "source": [
    "num1=10\n",
    "num2=20\n",
    "add=num1+num2\n"
   ]
  },
  {
   "cell_type": "code",
   "execution_count": 5,
   "id": "dfcfb77f-8cbb-47fb-891c-dd8e5049c5d1",
   "metadata": {},
   "outputs": [
    {
     "name": "stdout",
     "output_type": "stream",
     "text": [
      "The addition of two numbers\n",
      "the number 1: 10\n",
      "The number2: 10\n",
      "the answer 20\n"
     ]
    }
   ],
   "source": [
    "print(\"The addition of two numbers\")\n",
    "num1=10\n",
    "print(\"the number 1:\",num1)\n",
    "num2=10\n",
    "print(\"The number2:\",num2)\n",
    "print(\"the answer\",num1+num2)\n"
   ]
  },
  {
   "cell_type": "code",
   "execution_count": null,
   "id": "cf9f5d59-802c-466d-8af3-e9e067176569",
   "metadata": {},
   "outputs": [],
   "source": []
  }
 ],
 "metadata": {
  "kernelspec": {
   "display_name": "Python [conda env:base] *",
   "language": "python",
   "name": "conda-base-py"
  },
  "language_info": {
   "codemirror_mode": {
    "name": "ipython",
    "version": 3
   },
   "file_extension": ".py",
   "mimetype": "text/x-python",
   "name": "python",
   "nbconvert_exporter": "python",
   "pygments_lexer": "ipython3",
   "version": "3.12.7"
  }
 },
 "nbformat": 4,
 "nbformat_minor": 5
}
